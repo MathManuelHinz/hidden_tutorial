{
 "cells": [
  {
   "cell_type": "markdown",
   "id": "7886cac0",
   "metadata": {},
   "source": [
    "# Missing patterns\n",
    "Similar to the last section, we will now look at the $\\texttt{FIM}$ model. We will again generate some data, write some preprocessing function and delve deeper into the arguments of this model! Remember that the $\\texttt{FIM}$ tries to impute a whole range of values over some timeframe for which local simplicity can no longer be assumed."
   ]
  },
  {
   "cell_type": "code",
   "execution_count": 66,
   "id": "f96294aa",
   "metadata": {},
   "outputs": [],
   "source": [
    "from fim.models.imputation import FIMImputationWindowed\n",
    "import torch\n",
    "model = FIMImputationWindowed.from_pretrained(\"FIM4Science/fim-windowed-imputation\")"
   ]
  },
  {
   "cell_type": "markdown",
   "id": "a310e4a7",
   "metadata": {},
   "source": [
    "## Imputing a pattern\n",
    "We again start by generating some data, similar to the last two sections:"
   ]
  },
  {
   "cell_type": "code",
   "execution_count": 67,
   "id": "2fe28a5d",
   "metadata": {},
   "outputs": [],
   "source": [
    "ts = (torch.arange(0, 10, step=0.1) - 3).reshape(1, 1, 100, 1)\n",
    "true_values= torch.sin(2*ts) - ts \n",
    "noisy_values = true_values + torch.normal(0, 2.5, size=true_values.shape)"
   ]
  },
  {
   "cell_type": "markdown",
   "id": "2ec00610",
   "metadata": {},
   "source": [
    "Sadly the function needed to prepare our data for this model is a bit more lengthy. New users can either use this version, which assumes 3 windows (Start window, Imputation window, End Window), the version from ```tutorial_help.py``` which also supports 5 windows or write their own preprocessing function. This function then should follow the structure of the output of this function, i.e. a dictionary with the same keys and the described dimensions! The output should therefore have the following keys with the indicated shapes, where wc is the window count, B the batch size and D the dimension:\n",
    "\n",
    "|  Key  | Shape |\n",
    "| ----- | ----- |\n",
    "|location_times | [B, wlen_locs, 1] | \n",
    "|observation_times | [B, wc, wlen, D] | \n",
    "|observation_values | [B, wc, wlen, D] | \n",
    "|observation_mask | [B, wc, wlen, D] | \n",
    "|linitial_conditions | [B, D] | \n",
    "|rinitial_conditions | [B, D] | \n",
    "| padding_mask_locations | [B, wlen_locs] |"
   ]
  },
  {
   "cell_type": "code",
   "execution_count": 68,
   "id": "ac09b63f",
   "metadata": {},
   "outputs": [],
   "source": [
    "def prepare_data_3_window(ts, values, mask=None, imp_start=65, imp_end=70):\n",
    "    \"\"\"\n",
    "    Prepare simple time series data for FIM imputation model.\n",
    "    \n",
    "    Args:\n",
    "        ts: Time points tensor of shape [1, 1, T, 1]\n",
    "        values: Value tensor of shape [1, 1, T, 1] \n",
    "        mask: Boolean mask tensor of shape [1, 1, T, 1] (True = observed, False = missing)\n",
    "        window_count: Number of windows (3 or 5)\n",
    "        imputation_start: Start index for imputation window\n",
    "        imputation_end: End index for imputation window\n",
    "    \n",
    "    Returns:\n",
    "        batch: Dictionary suitable for FIM model\n",
    "    \"\"\"\n",
    "    if mask is None:\n",
    "        mask = torch.zeros_like(ts).bool()\n",
    "    \n",
    "    B, _, T, D = ts.shape  # Should be [1, 1, T, 1]\n",
    "    \n",
    "    \n",
    "    # Create location times and values (imputation window)\n",
    "    loc_times = ts[0, 0, imp_start:imp_end].unsqueeze(0)  # [1, imp_len, 1]\n",
    "    loc_values = values[0, 0, imp_start:imp_end].unsqueeze(0)  # [1, imp_len, 1]\n",
    "    \n",
    "    # Create context windows\n",
    "\n",
    "    # Left context, imputation window (index 1), right context\n",
    "    left_context_values = values[:, :, :imp_start]  # [1, 1, left_len, 1]\n",
    "    right_context_values = values[:, :, imp_end:]   # [1, 1, right_len, 1]\n",
    "    \n",
    "    left_context_times = ts[:, :, :imp_start]\n",
    "    right_context_times = ts[:, :, imp_end:]\n",
    "    \n",
    "    left_context_mask = mask[:, :, :imp_start]\n",
    "    right_context_mask = mask[:, :, imp_end:]\n",
    "    \n",
    "    # Pad to same length (max_length_window)\n",
    "    max_len = max(left_context_values.shape[2], right_context_values.shape[2])\n",
    "    max_len = max(max_len, 64)  # Minimum window size\n",
    "    \n",
    "    # Pad left context\n",
    "    left_pad_size = max_len - left_context_values.shape[2]\n",
    "    if left_pad_size > 0:\n",
    "        left_context_values = torch.cat([\n",
    "            torch.zeros(B, 1, left_pad_size, D), \n",
    "            left_context_values\n",
    "        ], dim=2)\n",
    "        left_context_times = torch.cat([\n",
    "            torch.zeros(B, 1, left_pad_size, 1), \n",
    "            left_context_times\n",
    "        ], dim=2)\n",
    "        left_context_mask = torch.cat([\n",
    "            torch.zeros(B, 1, left_pad_size, 1, dtype=torch.bool), \n",
    "            left_context_mask\n",
    "        ], dim=2)\n",
    "    else:\n",
    "        # Truncate if too long\n",
    "        left_context_values = left_context_values[:, :, -max_len:]\n",
    "        left_context_times = left_context_times[:, :, -max_len:]\n",
    "        left_context_mask = left_context_mask[:, :, -max_len:]\n",
    "    \n",
    "    # Pad right context\n",
    "    right_pad_size = max_len - right_context_values.shape[2]\n",
    "    if right_pad_size > 0:\n",
    "        right_context_values = torch.cat([\n",
    "            right_context_values,\n",
    "            torch.zeros(B, 1, right_pad_size, D)\n",
    "        ], dim=2)\n",
    "        right_context_times = torch.cat([\n",
    "            right_context_times,\n",
    "            torch.zeros(B, 1, right_pad_size, 1)\n",
    "        ], dim=2)\n",
    "        right_context_mask = torch.cat([\n",
    "            right_context_mask,\n",
    "            torch.zeros(B, 1, right_pad_size, 1, dtype=torch.bool)\n",
    "        ], dim=2)\n",
    "    else:\n",
    "        # Truncate if too long\n",
    "        right_context_values = right_context_values[:, :, :max_len]\n",
    "        right_context_times = right_context_times[:, :, :max_len]\n",
    "        right_context_mask = right_context_mask[:, :, :max_len]\n",
    "    \n",
    "    # Stack context windows: [B, window_count-1, max_len, D]\n",
    "    context_values = torch.stack([left_context_values.squeeze(1), right_context_values.squeeze(1)], dim=1)\n",
    "    context_times = torch.stack([left_context_times.squeeze(1), right_context_times.squeeze(1)], dim=1)\n",
    "    context_mask = torch.stack([left_context_mask.squeeze(1), right_context_mask.squeeze(1)], dim=1)\n",
    "        \n",
    "    \n",
    "    \n",
    "    # Find initial conditions (last observed point in left context, first in right context)\n",
    "    # Find last True in left context\n",
    "    left_mask = context_mask[:, 0].squeeze(-1)  # [B, max_len]\n",
    "    reversed_left = torch.flip(left_mask, dims=[1])\n",
    "    last_idx_left = torch.argmax(reversed_left.int(), dim=1)\n",
    "    last_idx_left = left_mask.shape[1] - 1 - last_idx_left\n",
    "    \n",
    "    # Find first True in right context\n",
    "    right_mask = context_mask[:, 1].squeeze(-1)  # [B, max_len]\n",
    "    first_idx_right = torch.argmax(right_mask.int(), dim=1)\n",
    "    \n",
    "    batch_indices = torch.arange(B)\n",
    "    linitial_conditions = context_values[:, 0][batch_indices, last_idx_left]  # [B, D]\n",
    "    rinitial_conditions = context_values[:, 1][batch_indices, first_idx_right]  # [B, D]\n",
    "    \n",
    "    # Create padding mask for locations (all False for no padding in this simple case)\n",
    "    padding_mask_locations = torch.zeros(B, loc_times.shape[1], dtype=torch.bool)\n",
    "    \n",
    "    # Prepare batch dictionary\n",
    "    batch = {\n",
    "        \"location_times\": loc_times.float(),\n",
    "        \"target_sample_path\": loc_values.float(),\n",
    "        \"initial_conditions\": loc_values[:, 0].float(),  # First point of imputation window\n",
    "        \"observation_values\": context_values.float(),\n",
    "        \"linitial_conditions\": linitial_conditions.float(),\n",
    "        \"rinitial_conditions\": rinitial_conditions.float(),\n",
    "        \"observation_mask\": context_mask, \n",
    "        \"observation_times\": context_times.float(),\n",
    "        \"padding_mask_locations\": padding_mask_locations,\n",
    "    }\n",
    "    \n",
    "    return batch"
   ]
  },
  {
   "cell_type": "markdown",
   "id": "ff87a239",
   "metadata": {},
   "source": [
    "With all that hard work, we can now impute the missing values as before:"
   ]
  },
  {
   "cell_type": "code",
   "execution_count": 69,
   "id": "5c76ef8f",
   "metadata": {},
   "outputs": [],
   "source": [
    "mask = torch.zeros_like(ts).bool()\n",
    "mask[0,0,[i for i in range(70,80)],0]=True # Mask out the values we want to impute\n",
    "batch=prepare_data_3_window(ts,true_values,mask,imp_start=70,imp_end=80)\n",
    "with torch.no_grad():\n",
    "    prediction=model(batch)[\"imputation_window\"][\"learnt\"].flatten()"
   ]
  },
  {
   "cell_type": "markdown",
   "id": "3b29a342",
   "metadata": {},
   "source": [
    "Similar to the model, the FIM returns more then just the learned values, here is a complete list of the structure of the output:\n",
    "```\n",
    "{\n",
    "    \"imputation_window\": {\n",
    "        \"learnt\": learnt_imp_solution,\n",
    "        \"target\": batch.get(\"target_sample_path\", None),\n",
    "        \"locations\": locations,\n",
    "        \"drift\": learnt_imp_drift,\n",
    "        \"drift_certainty\": learnt_imp_certainty,\n",
    "        \"padding_mask_locations\": batch.get(\"padding_mask_locations\", None),\n",
    "    },\n",
    "    \"observations\": {\n",
    "        \"values\": obs_values,\n",
    "        \"mask\": obs_mask,\n",
    "        \"times\": obs_times,\n",
    "        \"denoised_values\": obs_values_processed.view(B, wc, wlen, D),\n",
    "        \"interpolation\": interpolation_solution,\n",
    "        \"drift\": interpolation_drift,\n",
    "        \"drift_certainty\": interpolation_certainty,\n",
    "    },\n",
    "}\n",
    "```"
   ]
  },
  {
   "cell_type": "code",
   "execution_count": 70,
   "id": "39a02424",
   "metadata": {},
   "outputs": [
    {
     "data": {
      "image/png": "[encoded data removed]",
      "text/plain": [
       "<Figure size 640x480 with 1 Axes>"
      ]
     },
     "metadata": {},
     "output_type": "display_data"
    }
   ],
   "source": [
    "import matplotlib.pyplot as plt\n",
    "plt.plot(ts.flatten(), true_values.flatten(), label=\"True values\", c=\"blue\",alpha=0.9)\n",
    "plt.scatter(ts.flatten(), noisy_values.flatten(), label=\"Noisy values\",  c=\"red\",marker=\"x\", alpha=0.2)\n",
    "plt.scatter(ts.flatten()[mask.flatten()], prediction, label=\"Predicted values\", c=\"black\", marker=\"x\")\n",
    "plt.legend()\n",
    "plt.show()"
   ]
  }
 ],
 "metadata": {
  "kernelspec": {
   "display_name": "OpenFIM",
   "language": "python",
   "name": "python3"
  },
  "language_info": {
   "codemirror_mode": {
    "name": "ipython",
    "version": 3
   },
   "file_extension": ".py",
   "mimetype": "text/x-python",
   "name": "python",
   "nbconvert_exporter": "python",
   "pygments_lexer": "ipython3",
   "version": "3.12.3"
  }
 },
 "nbformat": 4,
 "nbformat_minor": 5
}
